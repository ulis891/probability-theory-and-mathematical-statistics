{
 "cells": [
  {
   "cell_type": "markdown",
   "metadata": {},
   "source": [
    "# Практическое задание к 10 семинару (Дисперсионный анализ)"
   ]
  },
  {
   "cell_type": "code",
   "execution_count": 1,
   "metadata": {},
   "outputs": [],
   "source": [
    "import numpy as np\n",
    "import scipy.stats as stats\n",
    "import statsmodels.api as sm\n",
    "from statsmodels.formula.api import ols\n",
    "from statsmodels.stats.multicomp import pairwise_tukeyhsd\n",
    "import pandas as pd"
   ]
  },
  {
   "cell_type": "markdown",
   "metadata": {},
   "source": [
    "## Задание 1\n",
    "```\n",
    "Провести дисперсионный анализ для определения того, есть ли различия среднего роста среди взрослых футболистов, хоккеистов и штангистов. Даны значения роста в трех группах случайно выбранных спортсменов: Футболисты: 173, 175, 180, 178, 177, 185, 183, 182. Хоккеисты: 177, 179, 180, 188, 177, 172, 171, 184, 180. Штангисты: 172, 173, 169, 177, 166, 180, 178, 177, 172, 166, 170.\n",
    "```"
   ]
  },
  {
   "cell_type": "code",
   "execution_count": 2,
   "metadata": {},
   "outputs": [],
   "source": [
    "f = np.array([173, 175, 180, 178, 177, 185, 183, 182])\n",
    "h = np.array ([177, 179, 180, 188, 177, 172, 171, 184, 180])\n",
    "a = np.array ([172, 173, 169, 177, 166, 180, 178, 177, 172, 166, 170])"
   ]
  },
  {
   "cell_type": "code",
   "execution_count": 3,
   "metadata": {},
   "outputs": [
    {
     "data": {
      "text/plain": [
       "ShapiroResult(statistic=0.9775081276893616, pvalue=0.9495397210121155)"
      ]
     },
     "execution_count": 3,
     "metadata": {},
     "output_type": "execute_result"
    }
   ],
   "source": [
    "stats.shapiro(f)"
   ]
  },
  {
   "cell_type": "markdown",
   "metadata": {},
   "source": [
    "рост футболистов распределён нормально"
   ]
  },
  {
   "cell_type": "code",
   "execution_count": 4,
   "metadata": {},
   "outputs": [
    {
     "data": {
      "text/plain": [
       "ShapiroResult(statistic=0.9579195976257324, pvalue=0.7763133645057678)"
      ]
     },
     "execution_count": 4,
     "metadata": {},
     "output_type": "execute_result"
    }
   ],
   "source": [
    "stats.shapiro(h)"
   ]
  },
  {
   "cell_type": "markdown",
   "metadata": {},
   "source": [
    "рост хоккеистов распределён нормально"
   ]
  },
  {
   "cell_type": "code",
   "execution_count": 5,
   "metadata": {},
   "outputs": [
    {
     "data": {
      "text/plain": [
       "ShapiroResult(statistic=0.93868088722229, pvalue=0.5051169991493225)"
      ]
     },
     "execution_count": 5,
     "metadata": {},
     "output_type": "execute_result"
    }
   ],
   "source": [
    "stats.shapiro(a)"
   ]
  },
  {
   "cell_type": "markdown",
   "metadata": {},
   "source": [
    "рост штангистов распределён нормально"
   ]
  },
  {
   "cell_type": "code",
   "execution_count": 6,
   "metadata": {},
   "outputs": [
    {
     "data": {
      "text/plain": [
       "BartlettResult(statistic=0.4640521043406442, pvalue=0.7929254656083131)"
      ]
     },
     "execution_count": 6,
     "metadata": {},
     "output_type": "execute_result"
    }
   ],
   "source": [
    "stats.bartlett(f, h, a)"
   ]
  },
  {
   "cell_type": "markdown",
   "metadata": {},
   "source": [
    "Дисперсии однородны"
   ]
  },
  {
   "cell_type": "code",
   "execution_count": 7,
   "metadata": {},
   "outputs": [
    {
     "data": {
      "text/plain": [
       "F_onewayResult(statistic=5.500053450812596, pvalue=0.010482206918698694)"
      ]
     },
     "execution_count": 7,
     "metadata": {},
     "output_type": "execute_result"
    }
   ],
   "source": [
    "stats.f_oneway(f, h, a)"
   ]
  },
  {
   "cell_type": "markdown",
   "metadata": {},
   "source": [
    "есть статестический значимые отличия в росте спортсменов"
   ]
  },
  {
   "cell_type": "code",
   "execution_count": 8,
   "metadata": {},
   "outputs": [
    {
     "name": "stdout",
     "output_type": "stream",
     "text": [
      "    Multiple Comparison of Means - Tukey HSD, FWER=0.05     \n",
      "============================================================\n",
      "  group1     group2  meandiff p-adj   lower    upper  reject\n",
      "------------------------------------------------------------\n",
      "футболисты хоккеисты  -0.4583  0.979  -6.2732  5.3566  False\n",
      "футболисты штангисты  -6.3977 0.0219 -11.9583 -0.8372   True\n",
      " хоккеисты штангисты  -5.9394 0.0284 -11.3181 -0.5607   True\n",
      "------------------------------------------------------------\n"
     ]
    }
   ],
   "source": [
    "df = pd.DataFrame({'score': [173, 175, 180, 178, 177, 185, 183, 182,\n",
    "                            177, 179, 180, 188, 177, 172, 171, 184, 180,\n",
    "                            172, 173, 169, 177, 166, 180, 178, 177, 172, 166, 170],\n",
    "                   'group': np.repeat(['футболисты', 'хоккеисты', 'штангисты'], repeats=[len(f), len(h), len(a)])})\n",
    "\n",
    "tukey = pairwise_tukeyhsd(endog=df['score'],\n",
    "                          groups=df['group'],\n",
    "                          alpha=0.05)\n",
    "print(tukey)"
   ]
  },
  {
   "cell_type": "markdown",
   "metadata": {},
   "source": [
    "**Ответ: Различия есть между футболистами и штангистами, а также между хоккеистами и штангтстами.**"
   ]
  },
  {
   "cell_type": "markdown",
   "metadata": {},
   "source": [
    "## Задание 2\n",
    "```\n",
    "В одной группе из 100 больных наблюдалось улучшение у 75, а в другой из 100 больных среди 69. Оценить с помощью доверительного интервала разность долей больных, у которых наблюдались улучшения.\n",
    "```"
   ]
  },
  {
   "cell_type": "markdown",
   "metadata": {},
   "source": [
    "$n_1 = 100$\n",
    "\n",
    "$m_1 = 75$\n",
    "\n",
    "$n_2 = 100$\n",
    "\n",
    "$m_2 = 69$\n",
    "\n",
    "$P_{общ} = \\frac{m_1 + m_2}{n_1 + n_2} = \\frac{75 + 69}{100 + 100} = 0.72$\n",
    "\n",
    "$P_1 = \\frac{75}{100} = 0.75$\n",
    "\n",
    "$P_2 = \\frac{96}{100} = 0.69$\n",
    "\n",
    "$\\alpha = 0.05 --> Z_{\\frac{\\alpha}{2}} = 1.96$\n",
    "\n",
    "$\\Delta =  P_1 - P_2 = 0.75 - 0.69 = 0.06$\n",
    "\n",
    "$S_{\\Delta} = \\sqrt{P_{общ} * (1 - P_{общ}) * (\\frac{1}{n_1} + \\frac{1}{n_2})} = \\sqrt{0.72 * (1 - 0.72) * (\\frac{1}{100} + \\frac{1}{100})} = 0.0635$\n",
    "\n",
    "Доверительный интервал лежит на отрезке $\\Delta \\pm Z_{\\frac{\\alpha}{2}} * S_{\\Delta} = 0.06 \\pm 1.96 * 0.0635 = 0,06 \\pm 0.124$\n",
    "\n",
    "$Z = \\frac{\\mid P_1 - P_2 \\mid - \\frac{1}{2}*(\\frac{1}{n_1} + \\frac{1}{n_2})}{ \\sqrt {P_{общ} * (1 - P_{общ}) * (\\frac{1}{n_1} + \\frac{1}{n_2})}} = \\frac{\\mid 0.75 - 0.69 \\mid - \\frac{1}{2}*(\\frac{1}{100} + \\frac{1}{100})}{ \\sqrt {0.72 * (1 - 0.72) * (\\frac{1}{100} + \\frac{1}{100})}} = 0.009$\n",
    "\n",
    "**Ответ: доверительный интервал для разности долей равен [-0.064 : 0.184], статистически значимых различий нет, так как $Z_{\\frac{\\alpha}{2}} > Z$.**"
   ]
  },
  {
   "cell_type": "markdown",
   "metadata": {},
   "source": [
    "### Задание 3\n",
    "```\n",
    "Какова вероятность, что в наудачу выбранном двузначном числе цифры одинаковые?\n",
    "```"
   ]
  },
  {
   "cell_type": "markdown",
   "metadata": {},
   "source": [
    "$p = 0,8$ , $n = 100$ , $m = 85$\n",
    "\n",
    "Размещение с повторением\n",
    "\n",
    "$A_{n}^{k} = A_{10}^{2}=10^2 = 100$\n",
    "Вычитаем 10 вариантов от 00 до 09\n",
    "100 - 10 = 90\n",
    "9 положительных вариантов\n",
    "\n",
    "\n",
    "**Ответ: $P = \\frac{9}{90} = 0.1$**"
   ]
  },
  {
   "cell_type": "markdown",
   "metadata": {},
   "source": []
  }
 ],
 "metadata": {
  "kernelspec": {
   "display_name": "Python 3.9.12 ('base')",
   "language": "python",
   "name": "python3"
  },
  "language_info": {
   "codemirror_mode": {
    "name": "ipython",
    "version": 3
   },
   "file_extension": ".py",
   "mimetype": "text/x-python",
   "name": "python",
   "nbconvert_exporter": "python",
   "pygments_lexer": "ipython3",
   "version": "3.9.12"
  },
  "orig_nbformat": 4,
  "vscode": {
   "interpreter": {
    "hash": "a9162801d8a36b8611d3448651d79abd10b247d55449665582686ee0a61d6638"
   }
  }
 },
 "nbformat": 4,
 "nbformat_minor": 2
}
