{
 "cells": [
  {
   "cell_type": "markdown",
   "metadata": {},
   "source": [
    "# Практическое задание к 8 семинару (Корреляционный анализ)"
   ]
  },
  {
   "cell_type": "code",
   "execution_count": 1,
   "metadata": {},
   "outputs": [],
   "source": [
    "import numpy as np\n",
    "import scipy.stats as stats\n",
    "import numpy as np\n",
    "import matplotlib.pyplot as plt\n",
    "from sklearn.linear_model import LinearRegression"
   ]
  },
  {
   "cell_type": "markdown",
   "metadata": {},
   "source": [
    "## Задание 1\n",
    "```\n",
    "Даны значения величины заработной платы заемщиков банка (zp) и значения их поведенческого кредитного скоринга (ks): zp = [35, 45, 190, 200, 40, 70, 54, 150, 120, 110], ks = [401, 574, 874, 919, 459, 739, 653, 902, 746, 832]. Используя математические операции, посчитать коэффициенты линейной регрессии, приняв за X заработную плату (то есть, zp - признак), а за y - значения скорингового балла (то есть, ks - целевая переменная). Произвести расчет как с использованием intercept, так и без.\n",
    "```"
   ]
  },
  {
   "cell_type": "code",
   "execution_count": 2,
   "metadata": {},
   "outputs": [
    {
     "data": {
      "text/plain": [
       "2.6205388824027653"
      ]
     },
     "execution_count": 2,
     "metadata": {},
     "output_type": "execute_result"
    }
   ],
   "source": [
    "zp= np.array([35, 45, 190, 200, 40, 70, 54, 150, 120, 110])\n",
    "ks= np.array ([401, 574, 874, 919, 459, 739, 653, 902, 746, 832])\n",
    "\n",
    "b1 = (len(zp)*sum(zp*ks) - sum(zp)*sum(ks)) / (len(zp)* sum(zp**2) - (sum(zp))**2)\n",
    "b1"
   ]
  },
  {
   "cell_type": "code",
   "execution_count": 3,
   "metadata": {},
   "outputs": [
    {
     "data": {
      "text/plain": [
       "444.17735732435955"
      ]
     },
     "execution_count": 3,
     "metadata": {},
     "output_type": "execute_result"
    }
   ],
   "source": [
    "b0 = np.mean(ks) - b1 * np.mean(zp)\n",
    "b0"
   ]
  },
  {
   "cell_type": "code",
   "execution_count": 4,
   "metadata": {},
   "outputs": [
    {
     "name": "stdout",
     "output_type": "stream",
     "text": [
      "coefficient of determination: 0.7876386635293686\n",
      "intercept: 444.1773573243596\n",
      "slope: [2.62053888]\n"
     ]
    },
    {
     "data": {
      "image/png": "[encoded data removed]",
      "text/plain": [
       "<Figure size 432x288 with 1 Axes>"
      ]
     },
     "metadata": {
      "needs_background": "light"
     },
     "output_type": "display_data"
    }
   ],
   "source": [
    "zp=zp.reshape(-1,1)\n",
    "model = LinearRegression()\n",
    "model.fit(zp, ks)\n",
    "r_sq = model.score(zp, ks)\n",
    "print('coefficient of determination:', r_sq)\n",
    "print('intercept:', model.intercept_)\n",
    "print('slope:', model.coef_)\n",
    "plt.scatter(zp, ks)\n",
    "plt.plot(zp,444.18+2.62*zp)\n",
    "plt.show()"
   ]
  },
  {
   "cell_type": "markdown",
   "metadata": {},
   "source": [
    "## Задание 2\n",
    "```\n",
    "Посчитать коэффициент линейной регрессии при заработной плате (zp), используя градиентный спуск (без intercept). \n",
    "```"
   ]
  },
  {
   "cell_type": "code",
   "execution_count": 8,
   "metadata": {},
   "outputs": [
    {
     "name": "stdout",
     "output_type": "stream",
     "text": [
      "iteranion = 0 , B1 = 0.25952808, mse = 493237.7212546963\n",
      "iteranion = 100 , B1 = 5.54537842245223, mse = 58151.31823171113\n",
      "iteranion = 200 , B1 = 5.868748638669329, mse = 56522.97550129376\n",
      "iteranion = 300 , B1 = 5.888531320728348, mse = 56516.88130936019\n",
      "iteranion = 400 , B1 = 5.8897415574471985, mse = 56516.85850140053\n",
      "iteranion = 500 , B1 = 5.889815595583751, mse = 56516.858416040064\n",
      "iteranion = 600 , B1 = 5.889820124983314, mse = 56516.85841572062\n",
      "iteranion = 700 , B1 = 5.889820402076462, mse = 56516.85841571941\n",
      "iteranion = 800 , B1 = 5.88982041902807, mse = 56516.8584157194\n",
      "iteranion = 900 , B1 = 5.889820420065112, mse = 56516.85841571941\n",
      "iteranion = 1000 , B1 = 5.8898204201285544, mse = 56516.85841571941\n",
      "iteranion = 1100 , B1 = 5.889820420132437, mse = 56516.85841571943\n",
      "iteranion = 1200 , B1 = 5.889820420132673, mse = 56516.85841571943\n"
     ]
    }
   ],
   "source": [
    "zp= np.array([35, 45, 190, 200, 40, 70, 54, 150, 120, 110])\n",
    "ks= np.array ([401, 574, 874, 919, 459, 739, 653, 902, 746, 832])\n",
    "n = len(zp)\n",
    "\n",
    "def mse_(b1, x = zp, y = ks, n = n):\n",
    "    return np.sum((y - x*b1)**2)/ n\n",
    "\n",
    "b1 = 0.1\n",
    "alpha = 1e-6\n",
    "\n",
    "for i in range(1300):\n",
    "    b1-= alpha * (2/n) * np.sum((b1 * zp - ks) * zp)\n",
    "    if i % 100 == 0:\n",
    "        print(f'iteranion = {i} , B1 = {b1}, mse = {mse_(b1)}')"
   ]
  },
  {
   "cell_type": "markdown",
   "metadata": {},
   "source": [
    "## Задание 3*\n",
    "```\n",
    "Произвести вычисления как в пункте 2, но с вычислением intercept. Учесть, что изменение коэффициентов должно производиться на каждом шаге одновременно (то есть изменение одного коэффициента не должно влиять на изменение другого во время одной итерации).\n",
    "```"
   ]
  },
  {
   "cell_type": "code",
   "execution_count": 6,
   "metadata": {},
   "outputs": [
    {
     "name": "stdout",
     "output_type": "stream",
     "text": [
      "iteranion = 0, B0 = 0.0, B1 = 0.1,  mse = 518336.326\n",
      "iteranion = 1000, B0 = 416.9739392769393, B1 = 2.820768066553786,  mse = 186279.78830506577\n",
      "iteranion = 2000, B0 = 442.5111378623459, B1 = 2.6328029943211275,  mse = 202661.27007909198\n",
      "iteranion = 3000, B0 = 444.0753007632767, B1 = 2.621290063814135,  mse = 203696.2809379966\n",
      "iteranion = 4000, B0 = 444.17110632207675, B1 = 2.6205848925432953,  mse = 203759.79443481113\n",
      "iteranion = 5000, B0 = 444.17697444814826, B1 = 2.6205417005409584,  mse = 203763.68510539393\n",
      "iteranion = 6000, B0 = 444.17733387305003, B1 = 2.6205390550147745,  mse = 203763.92341208275\n",
      "iteranion = 7000, B0 = 444.17735588795836, B1 = 2.6205388929753135,  mse = 203763.93800846214\n",
      "iteranion = 8000, B0 = 444.17735723637895, B1 = 2.6205388830503415,  mse = 203763.93890249534\n",
      "iteranion = 9000, B0 = 444.1773573189705, B1 = 2.6205388824424314,  mse = 203763.9389572554\n"
     ]
    }
   ],
   "source": [
    "zp= np.array([35, 45, 190, 200, 40, 70, 54, 150, 120, 110])\n",
    "ks= np.array ([401, 574, 874, 919, 459, 739, 653, 902, 746, 832])\n",
    "b0, b1 = 0.0, 0.1\n",
    "x = zp\n",
    "y = ks\n",
    "lr = 0.00001\n",
    "epochs = 10000\n",
    "\n",
    "\n",
    "# run 10000 times\n",
    "for epoch in range(epochs):\n",
    "    # initialize to 0 -> cost of epoch, Jb_0, Jb_1\n",
    "    epoch_cost, cost_b0, cost_b1 = 0, 0, 0\n",
    "    \n",
    "    if epoch % 1000 == 0:\n",
    "        print(f'iteranion = {epoch}, B0 = {b0}, B1 = {b1},  mse = {mse_(b1)}')\n",
    "\n",
    "    for i in range(len(x)):\n",
    "        # make prediction\n",
    "        y_pred = (b0 + b1*x[i])\n",
    "        # append squared error\n",
    "        epoch_cost += (y[i] - y_pred)**2 \n",
    "        \n",
    "        for j in range(len(x)):\n",
    "            # partial derivative of b0 and b1 for current row\n",
    "            partial_wrt_b0 = -2 * (y[j] - (b0 + b1*x[j]))\n",
    "            partial_wrt_b1 = (-2 * x[j]) * (y[j] - (b0 + b1*x[j]))\n",
    "            \n",
    "            # increase cost of coeffs\n",
    "            cost_b0 += partial_wrt_b0\n",
    "            cost_b1 += partial_wrt_b1\n",
    "\n",
    "        # calculate new coeffs\n",
    "        b0 = b0 - lr * cost_b0\n",
    "        b1 = b1 - lr * cost_b1"
   ]
  },
  {
   "cell_type": "code",
   "execution_count": 7,
   "metadata": {},
   "outputs": [
    {
     "data": {
      "text/plain": [
       "(444.1773573240287, 2.620538882405202)"
      ]
     },
     "execution_count": 7,
     "metadata": {},
     "output_type": "execute_result"
    }
   ],
   "source": [
    "b0, b1"
   ]
  }
 ],
 "metadata": {
  "kernelspec": {
   "display_name": "Python 3.9.12 ('base')",
   "language": "python",
   "name": "python3"
  },
  "language_info": {
   "codemirror_mode": {
    "name": "ipython",
    "version": 3
   },
   "file_extension": ".py",
   "mimetype": "text/x-python",
   "name": "python",
   "nbconvert_exporter": "python",
   "pygments_lexer": "ipython3",
   "version": "3.9.12"
  },
  "orig_nbformat": 4,
  "vscode": {
   "interpreter": {
    "hash": "a9162801d8a36b8611d3448651d79abd10b247d55449665582686ee0a61d6638"
   }
  }
 },
 "nbformat": 4,
 "nbformat_minor": 2
}
