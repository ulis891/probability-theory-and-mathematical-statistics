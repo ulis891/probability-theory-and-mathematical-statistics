{
 "cells": [
  {
   "cell_type": "markdown",
   "metadata": {},
   "source": [
    "# Практическое задание к 1 семинару (Расчет вероятности случайных событий)\n",
    "## Задание 1\n",
    "Из колоды в 52 карты извлекаются случайным образом 4 карты. \n",
    "\n",
    "### a) Найти вероятность того, что все карты – крести."
   ]
  },
  {
   "cell_type": "markdown",
   "metadata": {},
   "source": [
    "$P(A) = \\frac{ 13 }{ 52 }*\\frac{ 12 }{ 51 }*\\frac{ 11 }{ 50 }*\\frac{ 10 }{ 49 } = 0.002641$"
   ]
  },
  {
   "cell_type": "markdown",
   "metadata": {},
   "source": [
    "**Ответ: $P(A) = 0.0026410564225690276$ или $0.26$%**"
   ]
  },
  {
   "cell_type": "markdown",
   "metadata": {},
   "source": [
    "### б) Найти вероятность, что среди 4-х карт окажется хотя бы один туз."
   ]
  },
  {
   "cell_type": "markdown",
   "metadata": {},
   "source": [
    "n = 52 - карт в колоде\n",
    "\n",
    "t = 4  - колличество тузов\n",
    "\n",
    "a = 4 - количество извлекаемых карт"
   ]
  },
  {
   "cell_type": "markdown",
   "metadata": {},
   "source": [
    "1) находим по формуле сочетания количество благоприятных комбинайци. $$C_n^{k} = \\frac{n!}{k!(n-k)!}$$ \n",
    "\n",
    "берём подмножество тузов $$C_4^{1} = \\frac{4!}{1!(4-1)!} = 4$$ \n",
    "\n",
    "берём подмножество без тузов $$C_{48}^{3} = \\frac{48!}{3!(48-3)!} = 17296$$\n",
    "\n",
    "находим количество благоприятных исходов $$C_A = C_4^{1} *  C_{48}^{3} = 4 * 17296 = 69184$$ \n",
    "\n"
   ]
  },
  {
   "cell_type": "code",
   "execution_count": 1,
   "metadata": {},
   "outputs": [],
   "source": [
    "from math import factorial as f"
   ]
  },
  {
   "cell_type": "code",
   "execution_count": 2,
   "metadata": {},
   "outputs": [
    {
     "name": "stdout",
     "output_type": "stream",
     "text": [
      "tuz =  4.0 \n",
      "notuz =  17296.0 \n",
      "res =  69184.0\n"
     ]
    }
   ],
   "source": [
    "\n",
    "cards = 52  # количество карт\n",
    "ace = 4   # количество тузов\n",
    "need_ace = 1   # необходимо тузов\n",
    "others_cards = 3   # необходимо других карт\n",
    "a= 4    # количество извлекаемых карт\n",
    "\n",
    "# берём подмножество тузов\n",
    "tuz = f(ace)/(f(need_ace)*f(ace-need_ace))\n",
    "# берём подмножество без тузов\n",
    "notuz = f(cards-ace)/(f(others_cards)*f(cards-ace-others_cards))\n",
    "#   перемножаем результатыf\n",
    "res = tuz*notuz # количество благоприятных исходов\n",
    "print(\"tuz = \", tuz, \"\\nnotuz = \", notuz, \"\\nres = \", res)\n"
   ]
  },
  {
   "cell_type": "markdown",
   "metadata": {},
   "source": [
    "2) считаем общее число исходов"
   ]
  },
  {
   "cell_type": "code",
   "execution_count": 3,
   "metadata": {},
   "outputs": [
    {
     "name": "stdout",
     "output_type": "stream",
     "text": [
      "allPos =  270725.0\n"
     ]
    }
   ],
   "source": [
    "allPos = f(cards)/(f(a)*f(cards-a))\n",
    "print(\"allPos = \",allPos)"
   ]
  },
  {
   "cell_type": "code",
   "execution_count": 4,
   "metadata": {},
   "outputs": [
    {
     "data": {
      "text/plain": [
       "0.25555083571890297"
      ]
     },
     "execution_count": 4,
     "metadata": {},
     "output_type": "execute_result"
    }
   ],
   "source": [
    "p = res/allPos  # ситаем вероятность\n",
    "p"
   ]
  },
  {
   "cell_type": "markdown",
   "metadata": {},
   "source": [
    "$$P_{(A)} = \\frac{69184}{270725} = 0.25555083571890297$$ \n",
    "**Ответ: $P(A) = 0.25555083571890297$ или $25.5$%**"
   ]
  },
  {
   "cell_type": "markdown",
   "metadata": {},
   "source": [
    "## Задание 2\n",
    "На входной двери подъезда установлен кодовый замок, содержащий десять кнопок с цифрами от 0 до 9. \n",
    "\n",
    "Код содержит три цифры, которые нужно нажать одновременно.\n",
    "\n",
    "Какова вероятность того, что человек, не знающий код, откроет дверь с первой попытки?\n",
    "\n",
    "посчитаем количество сочетаний :\n",
    "$$C_{n}^{k} = \\frac{n!}{к!(n-k)!}$$ "
   ]
  },
  {
   "cell_type": "code",
   "execution_count": 5,
   "metadata": {},
   "outputs": [
    {
     "name": "stdout",
     "output_type": "stream",
     "text": [
      "var =  120.0\n"
     ]
    }
   ],
   "source": [
    "button = 10  # количество кнопок\n",
    "num = 3   # количество кнопок в комбинации\n",
    "\n",
    "# находим количество возможных вариантов\n",
    "var = f(button)/(f(num)*f(button-num))\n",
    "print(\"var = \", var)\n"
   ]
  },
  {
   "cell_type": "markdown",
   "metadata": {},
   "source": [
    "$$C_{10}^{3} = \\frac{10!}{3!(10-3)!} = 120$$ \n",
    "**Ответ: $P(A) = \\frac{ 1 }{ 120 }$**"
   ]
  },
  {
   "cell_type": "markdown",
   "metadata": {},
   "source": [
    "## Задача 3\n",
    "В ящике имеется 15 деталей, из которых 9 окрашены. Рабочий случайным образом извлекает 3 детали.\n",
    "\n",
    "Какова вероятность того, что все извлеченные детали окрашены?"
   ]
  },
  {
   "cell_type": "markdown",
   "metadata": {},
   "source": [
    "$P(A) = \\frac{ 9 }{ 15 }*\\frac{ 8 }{ 14 }*\\frac{ 7 }{ 13 } = \\frac{ 12 }{ 65 } = 0,1846$"
   ]
  },
  {
   "cell_type": "markdown",
   "metadata": {},
   "source": [
    "### Задача 4\n",
    "В лотерее 100 билетов. Из них 2 выигрышных. Какова вероятность того, что 2 приобретенных билета окажутся выигрышными?"
   ]
  },
  {
   "cell_type": "markdown",
   "metadata": {},
   "source": [
    "**Ответ: $P(A) = \\frac{ 2 }{ 100 }*\\frac{ 1 }{ 99} = \\frac{ 1 }{ 4950 }$**"
   ]
  }
 ],
 "metadata": {
  "kernelspec": {
   "display_name": "Python 3.9.12 ('base')",
   "language": "python",
   "name": "python3"
  },
  "language_info": {
   "codemirror_mode": {
    "name": "ipython",
    "version": 3
   },
   "file_extension": ".py",
   "mimetype": "text/x-python",
   "name": "python",
   "nbconvert_exporter": "python",
   "pygments_lexer": "ipython3",
   "version": "3.9.12"
  },
  "orig_nbformat": 4,
  "vscode": {
   "interpreter": {
    "hash": "a9162801d8a36b8611d3448651d79abd10b247d55449665582686ee0a61d6638"
   }
  }
 },
 "nbformat": 4,
 "nbformat_minor": 2
}
