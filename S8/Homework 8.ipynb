{
 "cells": [
  {
   "cell_type": "markdown",
   "metadata": {},
   "source": [
    "# Практическое задание к 8 семинару (Корреляционный анализ)"
   ]
  },
  {
   "cell_type": "code",
   "execution_count": 41,
   "metadata": {},
   "outputs": [],
   "source": [
    "import numpy as np\n",
    "import scipy.stats as stats\n",
    "import math"
   ]
  },
  {
   "cell_type": "markdown",
   "metadata": {},
   "source": [
    "## Задание 1\n",
    "```\n",
    "Даны значения величины заработной платы заемщиков банка (zp) и значения их поведенческого кредитного скоринга (ks):\n",
    "zp = [35, 45, 190, 200, 40, 70, 54, 150, 120, 110],\n",
    "ks = [401, 574, 874, 919, 459, 739, 653, 902, 746, 832].\n",
    "Найдите ковариацию этих двух величин с помощью элементарных действий, а затем с помощью функции cov из numpy\n",
    "Полученные значения должны быть равны.\n",
    "\n",
    "Найдите коэффициент корреляции Пирсона с помощью ковариации и среднеквадратичных отклонений двух признаков,\n",
    "а затем с использованием функций из библиотек numpy и pandas.\n",
    "```"
   ]
  },
  {
   "cell_type": "code",
   "execution_count": 42,
   "metadata": {},
   "outputs": [
    {
     "name": "stdout",
     "output_type": "stream",
     "text": [
      "Расчетная ковариация - 9157.839999999997\n",
      "Ковариация через функцию - [[ 3494.64  9157.84]\n",
      " [ 9157.84 30468.89]]\n"
     ]
    }
   ],
   "source": [
    "zp= np.array([35, 45, 190, 200, 40, 70, 54, 150, 120, 110])\n",
    "ks= np.array ([401, 574, 874, 919, 459, 739, 653, 902, 746, 832])\n",
    "\n",
    "cov = np.mean(zp*ks) - np.mean(zp) * np.mean(ks)\n",
    "print(f'Расчетная ковариация - {cov}')\n",
    "print(f'Ковариация через функцию - {np.cov(zp , ks, ddof=0)}')"
   ]
  },
  {
   "cell_type": "code",
   "execution_count": 43,
   "metadata": {},
   "outputs": [
    {
     "name": "stdout",
     "output_type": "stream",
     "text": [
      "Расчетная кореляция Пирсона - 0.8874900920739158\n",
      "Корреляция через функцию - [[1.         0.88749009]\n",
      " [0.88749009 1.        ]]\n"
     ]
    }
   ],
   "source": [
    "r = cov / (np.std(zp) * np.std(ks))\n",
    "print(f'Расчетная кореляция Пирсона - {r}')\n",
    "print(f'Корреляция через функцию - {np.corrcoef(zp, ks)}')"
   ]
  },
  {
   "cell_type": "markdown",
   "metadata": {},
   "source": [
    "## Задание 2\n",
    "```\n",
    "Измерены значения IQ выборки студентов,\n",
    "обучающихся в местных технических вузах:\n",
    "131, 125, 115, 122, 131, 115, 107, 99, 125, 111.\n",
    "Известно, что в генеральной совокупности IQ распределен нормально.\n",
    "Найдите доверительный интервал для математического ожидания с надежностью 0.95.\n",
    "```\n",
    "$\\alpha = 0.05 --> t_{\\frac{\\alpha}{2}} = 2.262$"
   ]
  },
  {
   "cell_type": "code",
   "execution_count": 44,
   "metadata": {},
   "outputs": [
    {
     "name": "stdout",
     "output_type": "stream",
     "text": [
      "Доверительный интервал лежит на отрезке [110.55660776308164 : 125.64339223691834]\n"
     ]
    }
   ],
   "source": [
    "iq = np.array([131, 125, 115, 122, 131, 115, 107, 99, 125, 111])\n",
    "alpha = 2.262\n",
    "mean_iq = np.mean(iq)\n",
    "sigma = np.std(iq, ddof=1)\n",
    "n = len(iq)\n",
    "a = mean_iq + alpha * (sigma/math.sqrt(n))\n",
    "b = mean_iq - alpha * (sigma/math.sqrt(n)) \n",
    "print(f'Доверительный интервал лежит на отрезке [{b} : {a}]')"
   ]
  },
  {
   "cell_type": "markdown",
   "metadata": {},
   "source": [
    "## Задание 3\n",
    "```\n",
    "Известно, что рост футболистов в сборной распределен нормально\n",
    "с дисперсией генеральной совокупности, равной 25 кв.см. Объем выборки равен 27,\n",
    "среднее выборочное составляет 174.2. Найдите доверительный интервал для математического\n",
    "ожидания с надежностью 0.95.\n",
    "```\n",
    "$\\sigma = 5$\n",
    "\n",
    "$X_{ср} = 174.2$\n",
    "\n",
    "$n = 27$\n",
    "\n",
    "$\\alpha = 0.05 --> Z_{\\frac{\\alpha}{2}} = 1.96$\n",
    "\n",
    "Доверительный интервал лежит на отрезке $X_{ср} \\pm Z_{\\frac{\\alpha}{2}} * \\frac{\\sigma}{\\sqrt{n}} = 174.2 \\pm 1.96 * \\frac{5}{\\sqrt{27}} = 174.2 \\pm 1.88 = [172.32 : 176.08]$\n"
   ]
  }
 ],
 "metadata": {
  "kernelspec": {
   "display_name": "Python 3.9.12 ('base')",
   "language": "python",
   "name": "python3"
  },
  "language_info": {
   "codemirror_mode": {
    "name": "ipython",
    "version": 3
   },
   "file_extension": ".py",
   "mimetype": "text/x-python",
   "name": "python",
   "nbconvert_exporter": "python",
   "pygments_lexer": "ipython3",
   "version": "3.9.12"
  },
  "orig_nbformat": 4,
  "vscode": {
   "interpreter": {
    "hash": "a9162801d8a36b8611d3448651d79abd10b247d55449665582686ee0a61d6638"
   }
  }
 },
 "nbformat": 4,
 "nbformat_minor": 2
}
